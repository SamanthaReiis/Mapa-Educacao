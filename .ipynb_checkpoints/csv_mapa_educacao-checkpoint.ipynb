{
 "cells": [
  {
   "cell_type": "markdown",
   "metadata": {},
   "source": [
    "# Mapa das escolas do RS por taxa de distorção de série"
   ]
  },
  {
   "cell_type": "code",
   "execution_count": 2,
   "metadata": {},
   "outputs": [
    {
     "name": "stdout",
     "output_type": "stream",
     "text": [
      "Collecting folium\n",
      "  Downloading https://files.pythonhosted.org/packages/72/ff/004bfe344150a064e558cb2aedeaa02ecbf75e60e148a55a9198f0c41765/folium-0.10.0-py2.py3-none-any.whl (91kB)\n",
      "Requirement already satisfied: jinja2>=2.9 in c:\\users\\trabalho\\anaconda3\\lib\\site-packages (from folium) (2.10)\n",
      "Collecting branca>=0.3.0 (from folium)\n",
      "  Downloading https://files.pythonhosted.org/packages/63/36/1c93318e9653f4e414a2e0c3b98fc898b4970e939afeedeee6075dd3b703/branca-0.3.1-py3-none-any.whl\n",
      "Requirement already satisfied: requests in c:\\users\\trabalho\\anaconda3\\lib\\site-packages (from folium) (2.21.0)\n",
      "Requirement already satisfied: numpy in c:\\users\\trabalho\\anaconda3\\lib\\site-packages (from folium) (1.15.4)\n",
      "Requirement already satisfied: MarkupSafe>=0.23 in c:\\users\\trabalho\\anaconda3\\lib\\site-packages (from jinja2>=2.9->folium) (1.1.0)\n",
      "Requirement already satisfied: six in c:\\users\\trabalho\\anaconda3\\lib\\site-packages (from branca>=0.3.0->folium) (1.12.0)\n",
      "Requirement already satisfied: chardet<3.1.0,>=3.0.2 in c:\\users\\trabalho\\anaconda3\\lib\\site-packages (from requests->folium) (3.0.4)\n",
      "Requirement already satisfied: urllib3<1.25,>=1.21.1 in c:\\users\\trabalho\\anaconda3\\lib\\site-packages (from requests->folium) (1.24.1)\n",
      "Requirement already satisfied: certifi>=2017.4.17 in c:\\users\\trabalho\\anaconda3\\lib\\site-packages (from requests->folium) (2018.11.29)\n",
      "Requirement already satisfied: idna<2.9,>=2.5 in c:\\users\\trabalho\\anaconda3\\lib\\site-packages (from requests->folium) (2.8)\n",
      "Installing collected packages: branca, folium\n",
      "Successfully installed branca-0.3.1 folium-0.10.0\n"
     ]
    }
   ],
   "source": [
    "# Instalando a biblioteca Python Folium\n",
    "!pip install folium\n"
   ]
  },
  {
   "cell_type": "code",
   "execution_count": 3,
   "metadata": {},
   "outputs": [],
   "source": [
    "# Importando Bibliotecas Python\n",
    "import pandas as pd\n",
    "%matplotlib inline\n",
    "import folium"
   ]
  },
  {
   "cell_type": "code",
   "execution_count": 4,
   "metadata": {},
   "outputs": [
    {
     "data": {
      "text/html": [
       "<div>\n",
       "<style scoped>\n",
       "    .dataframe tbody tr th:only-of-type {\n",
       "        vertical-align: middle;\n",
       "    }\n",
       "\n",
       "    .dataframe tbody tr th {\n",
       "        vertical-align: top;\n",
       "    }\n",
       "\n",
       "    .dataframe thead th {\n",
       "        text-align: right;\n",
       "    }\n",
       "</style>\n",
       "<table border=\"1\" class=\"dataframe\">\n",
       "  <thead>\n",
       "    <tr style=\"text-align: right;\">\n",
       "      <th></th>\n",
       "      <th>Município</th>\n",
       "      <th>ibge</th>\n",
       "      <th>latitude</th>\n",
       "      <th>longitude</th>\n",
       "      <th>/Educação/Ens...de Série/Total 2013 (-)</th>\n",
       "    </tr>\n",
       "  </thead>\n",
       "  <tbody>\n",
       "    <tr>\n",
       "      <th>0</th>\n",
       "      <td>Aceguá</td>\n",
       "      <td>4300034</td>\n",
       "      <td>-31.86076</td>\n",
       "      <td>-54.16706</td>\n",
       "      <td>25,7</td>\n",
       "    </tr>\n",
       "    <tr>\n",
       "      <th>1</th>\n",
       "      <td>Água Santa</td>\n",
       "      <td>4300059</td>\n",
       "      <td>-28.16720</td>\n",
       "      <td>-52.03100</td>\n",
       "      <td>14,7</td>\n",
       "    </tr>\n",
       "    <tr>\n",
       "      <th>2</th>\n",
       "      <td>Agudo</td>\n",
       "      <td>4300109</td>\n",
       "      <td>-29.64470</td>\n",
       "      <td>-53.25150</td>\n",
       "      <td>26,4</td>\n",
       "    </tr>\n",
       "    <tr>\n",
       "      <th>3</th>\n",
       "      <td>Ajuricaba</td>\n",
       "      <td>4300208</td>\n",
       "      <td>-28.23420</td>\n",
       "      <td>-53.77570</td>\n",
       "      <td>24,1</td>\n",
       "    </tr>\n",
       "    <tr>\n",
       "      <th>4</th>\n",
       "      <td>Alecrim</td>\n",
       "      <td>4300307</td>\n",
       "      <td>-27.65790</td>\n",
       "      <td>-54.76490</td>\n",
       "      <td>18,9</td>\n",
       "    </tr>\n",
       "  </tbody>\n",
       "</table>\n",
       "</div>"
      ],
      "text/plain": [
       "    Município     ibge  latitude  longitude  \\\n",
       "0      Aceguá  4300034 -31.86076  -54.16706   \n",
       "1  Água Santa  4300059 -28.16720  -52.03100   \n",
       "2       Agudo  4300109 -29.64470  -53.25150   \n",
       "3   Ajuricaba  4300208 -28.23420  -53.77570   \n",
       "4     Alecrim  4300307 -27.65790  -54.76490   \n",
       "\n",
       "  /Educação/Ens...de Série/Total 2013 (-)  \n",
       "0                                    25,7  \n",
       "1                                    14,7  \n",
       "2                                    26,4  \n",
       "3                                    24,1  \n",
       "4                                    18,9  "
      ]
     },
     "execution_count": 4,
     "metadata": {},
     "output_type": "execute_result"
    }
   ],
   "source": [
    "# Carregando arquivo csv\n",
    "df = pd.read_csv('fee-2013-mun-taxa-de-distorcao-idade-serie-total-102524.csv', encoding= 'latin1', skiprows= 1)\n",
    "\n",
    "# Mostrando as primeiras linhas do documento\n",
    "df.head()"
   ]
  },
  {
   "cell_type": "code",
   "execution_count": 16,
   "metadata": {},
   "outputs": [
    {
     "data": {
      "text/html": [
       "<div>\n",
       "<style scoped>\n",
       "    .dataframe tbody tr th:only-of-type {\n",
       "        vertical-align: middle;\n",
       "    }\n",
       "\n",
       "    .dataframe tbody tr th {\n",
       "        vertical-align: top;\n",
       "    }\n",
       "\n",
       "    .dataframe thead th {\n",
       "        text-align: right;\n",
       "    }\n",
       "</style>\n",
       "<table border=\"1\" class=\"dataframe\">\n",
       "  <thead>\n",
       "    <tr style=\"text-align: right;\">\n",
       "      <th></th>\n",
       "      <th>Município</th>\n",
       "      <th>ibge</th>\n",
       "      <th>latitude</th>\n",
       "      <th>longitude</th>\n",
       "      <th>tx_distorcao</th>\n",
       "    </tr>\n",
       "  </thead>\n",
       "  <tbody>\n",
       "    <tr>\n",
       "      <th>0</th>\n",
       "      <td>Aceguá</td>\n",
       "      <td>4300034</td>\n",
       "      <td>-31.86076</td>\n",
       "      <td>-54.16706</td>\n",
       "      <td>25,7</td>\n",
       "    </tr>\n",
       "    <tr>\n",
       "      <th>1</th>\n",
       "      <td>Água Santa</td>\n",
       "      <td>4300059</td>\n",
       "      <td>-28.16720</td>\n",
       "      <td>-52.03100</td>\n",
       "      <td>14,7</td>\n",
       "    </tr>\n",
       "    <tr>\n",
       "      <th>2</th>\n",
       "      <td>Agudo</td>\n",
       "      <td>4300109</td>\n",
       "      <td>-29.64470</td>\n",
       "      <td>-53.25150</td>\n",
       "      <td>26,4</td>\n",
       "    </tr>\n",
       "    <tr>\n",
       "      <th>3</th>\n",
       "      <td>Ajuricaba</td>\n",
       "      <td>4300208</td>\n",
       "      <td>-28.23420</td>\n",
       "      <td>-53.77570</td>\n",
       "      <td>24,1</td>\n",
       "    </tr>\n",
       "    <tr>\n",
       "      <th>4</th>\n",
       "      <td>Alecrim</td>\n",
       "      <td>4300307</td>\n",
       "      <td>-27.65790</td>\n",
       "      <td>-54.76490</td>\n",
       "      <td>18,9</td>\n",
       "    </tr>\n",
       "  </tbody>\n",
       "</table>\n",
       "</div>"
      ],
      "text/plain": [
       "    Município     ibge  latitude  longitude tx_distorcao\n",
       "0      Aceguá  4300034 -31.86076  -54.16706         25,7\n",
       "1  Água Santa  4300059 -28.16720  -52.03100         14,7\n",
       "2       Agudo  4300109 -29.64470  -53.25150         26,4\n",
       "3   Ajuricaba  4300208 -28.23420  -53.77570         24,1\n",
       "4     Alecrim  4300307 -27.65790  -54.76490         18,9"
      ]
     },
     "execution_count": 16,
     "metadata": {},
     "output_type": "execute_result"
    }
   ],
   "source": [
    "# Renomeando colunas do Data Frame\n",
    "df.rename(columns= {'tx_distocao':'tx_distorcao'}, inplace= True)\n",
    "df.head()"
   ]
  },
  {
   "cell_type": "code",
   "execution_count": 17,
   "metadata": {},
   "outputs": [
    {
     "name": "stdout",
     "output_type": "stream",
     "text": [
      "<class 'pandas.core.frame.DataFrame'>\n",
      "RangeIndex: 495 entries, 0 to 494\n",
      "Data columns (total 5 columns):\n",
      "Município       495 non-null object\n",
      "ibge            495 non-null int64\n",
      "latitude        495 non-null float64\n",
      "longitude       495 non-null float64\n",
      "tx_distorcao    495 non-null object\n",
      "dtypes: float64(2), int64(1), object(2)\n",
      "memory usage: 19.4+ KB\n"
     ]
    }
   ],
   "source": [
    "# Verificar os tipos de dados\n",
    "df.info()"
   ]
  },
  {
   "cell_type": "code",
   "execution_count": 18,
   "metadata": {},
   "outputs": [
    {
     "data": {
      "text/html": [
       "<div>\n",
       "<style scoped>\n",
       "    .dataframe tbody tr th:only-of-type {\n",
       "        vertical-align: middle;\n",
       "    }\n",
       "\n",
       "    .dataframe tbody tr th {\n",
       "        vertical-align: top;\n",
       "    }\n",
       "\n",
       "    .dataframe thead th {\n",
       "        text-align: right;\n",
       "    }\n",
       "</style>\n",
       "<table border=\"1\" class=\"dataframe\">\n",
       "  <thead>\n",
       "    <tr style=\"text-align: right;\">\n",
       "      <th></th>\n",
       "      <th>Município</th>\n",
       "      <th>ibge</th>\n",
       "      <th>latitude</th>\n",
       "      <th>longitude</th>\n",
       "      <th>tx_distorcao</th>\n",
       "    </tr>\n",
       "  </thead>\n",
       "  <tbody>\n",
       "    <tr>\n",
       "      <th>0</th>\n",
       "      <td>Aceguá</td>\n",
       "      <td>4300034</td>\n",
       "      <td>-31.86076</td>\n",
       "      <td>-54.16706</td>\n",
       "      <td>25.7</td>\n",
       "    </tr>\n",
       "    <tr>\n",
       "      <th>1</th>\n",
       "      <td>Água Santa</td>\n",
       "      <td>4300059</td>\n",
       "      <td>-28.16720</td>\n",
       "      <td>-52.03100</td>\n",
       "      <td>14.7</td>\n",
       "    </tr>\n",
       "    <tr>\n",
       "      <th>2</th>\n",
       "      <td>Agudo</td>\n",
       "      <td>4300109</td>\n",
       "      <td>-29.64470</td>\n",
       "      <td>-53.25150</td>\n",
       "      <td>26.4</td>\n",
       "    </tr>\n",
       "    <tr>\n",
       "      <th>3</th>\n",
       "      <td>Ajuricaba</td>\n",
       "      <td>4300208</td>\n",
       "      <td>-28.23420</td>\n",
       "      <td>-53.77570</td>\n",
       "      <td>24.1</td>\n",
       "    </tr>\n",
       "    <tr>\n",
       "      <th>4</th>\n",
       "      <td>Alecrim</td>\n",
       "      <td>4300307</td>\n",
       "      <td>-27.65790</td>\n",
       "      <td>-54.76490</td>\n",
       "      <td>18.9</td>\n",
       "    </tr>\n",
       "  </tbody>\n",
       "</table>\n",
       "</div>"
      ],
      "text/plain": [
       "    Município     ibge  latitude  longitude tx_distorcao\n",
       "0      Aceguá  4300034 -31.86076  -54.16706         25.7\n",
       "1  Água Santa  4300059 -28.16720  -52.03100         14.7\n",
       "2       Agudo  4300109 -29.64470  -53.25150         26.4\n",
       "3   Ajuricaba  4300208 -28.23420  -53.77570         24.1\n",
       "4     Alecrim  4300307 -27.65790  -54.76490         18.9"
      ]
     },
     "execution_count": 18,
     "metadata": {},
     "output_type": "execute_result"
    }
   ],
   "source": [
    "# Vamos converte a tx_distorcao para float\n",
    "\n",
    "# Primeiro vamos trocar vírgula por ponto\n",
    "df['tx_distorcao'] = df['tx_distorcao'].str.replace(',','.')\n",
    "df.head()"
   ]
  },
  {
   "cell_type": "code",
   "execution_count": 21,
   "metadata": {},
   "outputs": [
    {
     "name": "stdout",
     "output_type": "stream",
     "text": [
      "<class 'pandas.core.frame.DataFrame'>\n",
      "RangeIndex: 495 entries, 0 to 494\n",
      "Data columns (total 5 columns):\n",
      "Município       495 non-null object\n",
      "ibge            495 non-null int64\n",
      "latitude        495 non-null float64\n",
      "longitude       495 non-null float64\n",
      "tx_distorcao    495 non-null float64\n",
      "dtypes: float64(3), int64(1), object(1)\n",
      "memory usage: 19.4+ KB\n"
     ]
    }
   ],
   "source": [
    "# Fazendo a conversão\n",
    "df['tx_distorcao'] = df['tx_distorcao'].astype(float)\n",
    "df.info()"
   ]
  },
  {
   "cell_type": "code",
   "execution_count": 22,
   "metadata": {},
   "outputs": [
    {
     "data": {
      "text/html": [
       "<div>\n",
       "<style scoped>\n",
       "    .dataframe tbody tr th:only-of-type {\n",
       "        vertical-align: middle;\n",
       "    }\n",
       "\n",
       "    .dataframe tbody tr th {\n",
       "        vertical-align: top;\n",
       "    }\n",
       "\n",
       "    .dataframe thead th {\n",
       "        text-align: right;\n",
       "    }\n",
       "</style>\n",
       "<table border=\"1\" class=\"dataframe\">\n",
       "  <thead>\n",
       "    <tr style=\"text-align: right;\">\n",
       "      <th></th>\n",
       "      <th>Município</th>\n",
       "      <th>ibge</th>\n",
       "      <th>latitude</th>\n",
       "      <th>longitude</th>\n",
       "      <th>tx_distorcao</th>\n",
       "    </tr>\n",
       "  </thead>\n",
       "  <tbody>\n",
       "    <tr>\n",
       "      <th>490</th>\n",
       "      <td>Vista Alegre do Prata</td>\n",
       "      <td>4323606</td>\n",
       "      <td>-28.8052</td>\n",
       "      <td>-51.7946</td>\n",
       "      <td>2.6</td>\n",
       "    </tr>\n",
       "    <tr>\n",
       "      <th>375</th>\n",
       "      <td>Santo Antônio do Palma</td>\n",
       "      <td>4317558</td>\n",
       "      <td>-28.4956</td>\n",
       "      <td>-52.0267</td>\n",
       "      <td>4.3</td>\n",
       "    </tr>\n",
       "    <tr>\n",
       "      <th>28</th>\n",
       "      <td>Áurea</td>\n",
       "      <td>4301552</td>\n",
       "      <td>-27.6936</td>\n",
       "      <td>-52.0505</td>\n",
       "      <td>5.8</td>\n",
       "    </tr>\n",
       "    <tr>\n",
       "      <th>268</th>\n",
       "      <td>Nicolau Vergueiro</td>\n",
       "      <td>4312674</td>\n",
       "      <td>-28.5298</td>\n",
       "      <td>-52.4676</td>\n",
       "      <td>7.0</td>\n",
       "    </tr>\n",
       "    <tr>\n",
       "      <th>128</th>\n",
       "      <td>Derrubadas</td>\n",
       "      <td>4306320</td>\n",
       "      <td>-27.2642</td>\n",
       "      <td>-53.8645</td>\n",
       "      <td>7.4</td>\n",
       "    </tr>\n",
       "    <tr>\n",
       "      <th>119</th>\n",
       "      <td>Cotiporã</td>\n",
       "      <td>4305959</td>\n",
       "      <td>-28.9891</td>\n",
       "      <td>-51.6971</td>\n",
       "      <td>7.5</td>\n",
       "    </tr>\n",
       "    <tr>\n",
       "      <th>68</th>\n",
       "      <td>Campestre da Serra</td>\n",
       "      <td>4303673</td>\n",
       "      <td>-28.7926</td>\n",
       "      <td>-51.0941</td>\n",
       "      <td>7.6</td>\n",
       "    </tr>\n",
       "    <tr>\n",
       "      <th>476</th>\n",
       "      <td>Vanini</td>\n",
       "      <td>4322558</td>\n",
       "      <td>-28.4758</td>\n",
       "      <td>-51.8447</td>\n",
       "      <td>7.8</td>\n",
       "    </tr>\n",
       "    <tr>\n",
       "      <th>236</th>\n",
       "      <td>Linha Nova</td>\n",
       "      <td>4311643</td>\n",
       "      <td>-29.4679</td>\n",
       "      <td>-51.2003</td>\n",
       "      <td>8.0</td>\n",
       "    </tr>\n",
       "    <tr>\n",
       "      <th>392</th>\n",
       "      <td>São José do Inhacorá</td>\n",
       "      <td>4318499</td>\n",
       "      <td>-27.7251</td>\n",
       "      <td>-54.1275</td>\n",
       "      <td>8.0</td>\n",
       "    </tr>\n",
       "  </tbody>\n",
       "</table>\n",
       "</div>"
      ],
      "text/plain": [
       "                  Município     ibge  latitude  longitude  tx_distorcao\n",
       "490   Vista Alegre do Prata  4323606  -28.8052   -51.7946           2.6\n",
       "375  Santo Antônio do Palma  4317558  -28.4956   -52.0267           4.3\n",
       "28                    Áurea  4301552  -27.6936   -52.0505           5.8\n",
       "268       Nicolau Vergueiro  4312674  -28.5298   -52.4676           7.0\n",
       "128              Derrubadas  4306320  -27.2642   -53.8645           7.4\n",
       "119                Cotiporã  4305959  -28.9891   -51.6971           7.5\n",
       "68       Campestre da Serra  4303673  -28.7926   -51.0941           7.6\n",
       "476                  Vanini  4322558  -28.4758   -51.8447           7.8\n",
       "236              Linha Nova  4311643  -29.4679   -51.2003           8.0\n",
       "392    São José do Inhacorá  4318499  -27.7251   -54.1275           8.0"
      ]
     },
     "execution_count": 22,
     "metadata": {},
     "output_type": "execute_result"
    }
   ],
   "source": [
    "# Os 10 municipios com menor taxa de distorção\n",
    "df.nsmallest(10, 'tx_distorcao')"
   ]
  },
  {
   "cell_type": "code",
   "execution_count": 23,
   "metadata": {},
   "outputs": [
    {
     "data": {
      "text/html": [
       "<div>\n",
       "<style scoped>\n",
       "    .dataframe tbody tr th:only-of-type {\n",
       "        vertical-align: middle;\n",
       "    }\n",
       "\n",
       "    .dataframe tbody tr th {\n",
       "        vertical-align: top;\n",
       "    }\n",
       "\n",
       "    .dataframe thead th {\n",
       "        text-align: right;\n",
       "    }\n",
       "</style>\n",
       "<table border=\"1\" class=\"dataframe\">\n",
       "  <thead>\n",
       "    <tr style=\"text-align: right;\">\n",
       "      <th></th>\n",
       "      <th>Município</th>\n",
       "      <th>ibge</th>\n",
       "      <th>latitude</th>\n",
       "      <th>longitude</th>\n",
       "      <th>tx_distorcao</th>\n",
       "    </tr>\n",
       "  </thead>\n",
       "  <tbody>\n",
       "    <tr>\n",
       "      <th>307</th>\n",
       "      <td>Pedras Altas</td>\n",
       "      <td>4314175</td>\n",
       "      <td>-31.7217</td>\n",
       "      <td>-53.5838</td>\n",
       "      <td>56.0</td>\n",
       "    </tr>\n",
       "    <tr>\n",
       "      <th>316</th>\n",
       "      <td>Pinheiro Machado</td>\n",
       "      <td>4314506</td>\n",
       "      <td>-31.5794</td>\n",
       "      <td>-53.3798</td>\n",
       "      <td>53.9</td>\n",
       "    </tr>\n",
       "    <tr>\n",
       "      <th>17</th>\n",
       "      <td>Arambaré</td>\n",
       "      <td>4300851</td>\n",
       "      <td>-30.9093</td>\n",
       "      <td>-51.5046</td>\n",
       "      <td>52.8</td>\n",
       "    </tr>\n",
       "    <tr>\n",
       "      <th>140</th>\n",
       "      <td>Eldorado do Sul</td>\n",
       "      <td>4306767</td>\n",
       "      <td>-30.0847</td>\n",
       "      <td>-51.6187</td>\n",
       "      <td>51.9</td>\n",
       "    </tr>\n",
       "    <tr>\n",
       "      <th>35</th>\n",
       "      <td>Barra do Quaraí</td>\n",
       "      <td>4301875</td>\n",
       "      <td>-30.2029</td>\n",
       "      <td>-57.5497</td>\n",
       "      <td>51.5</td>\n",
       "    </tr>\n",
       "    <tr>\n",
       "      <th>393</th>\n",
       "      <td>São José do Norte</td>\n",
       "      <td>4318507</td>\n",
       "      <td>-32.0151</td>\n",
       "      <td>-52.0331</td>\n",
       "      <td>49.4</td>\n",
       "    </tr>\n",
       "    <tr>\n",
       "      <th>413</th>\n",
       "      <td>São Valério do Sul</td>\n",
       "      <td>4319737</td>\n",
       "      <td>-27.7906</td>\n",
       "      <td>-53.9368</td>\n",
       "      <td>49.2</td>\n",
       "    </tr>\n",
       "    <tr>\n",
       "      <th>193</th>\n",
       "      <td>Hulha Negra</td>\n",
       "      <td>4309654</td>\n",
       "      <td>-31.4067</td>\n",
       "      <td>-53.8667</td>\n",
       "      <td>49.0</td>\n",
       "    </tr>\n",
       "    <tr>\n",
       "      <th>106</th>\n",
       "      <td>Chuí</td>\n",
       "      <td>4305439</td>\n",
       "      <td>-33.6866</td>\n",
       "      <td>-53.4594</td>\n",
       "      <td>48.6</td>\n",
       "    </tr>\n",
       "    <tr>\n",
       "      <th>233</th>\n",
       "      <td>Lavras do Sul</td>\n",
       "      <td>4311502</td>\n",
       "      <td>-30.8071</td>\n",
       "      <td>-53.8931</td>\n",
       "      <td>47.7</td>\n",
       "    </tr>\n",
       "  </tbody>\n",
       "</table>\n",
       "</div>"
      ],
      "text/plain": [
       "              Município     ibge  latitude  longitude  tx_distorcao\n",
       "307        Pedras Altas  4314175  -31.7217   -53.5838          56.0\n",
       "316    Pinheiro Machado  4314506  -31.5794   -53.3798          53.9\n",
       "17             Arambaré  4300851  -30.9093   -51.5046          52.8\n",
       "140     Eldorado do Sul  4306767  -30.0847   -51.6187          51.9\n",
       "35      Barra do Quaraí  4301875  -30.2029   -57.5497          51.5\n",
       "393   São José do Norte  4318507  -32.0151   -52.0331          49.4\n",
       "413  São Valério do Sul  4319737  -27.7906   -53.9368          49.2\n",
       "193         Hulha Negra  4309654  -31.4067   -53.8667          49.0\n",
       "106                Chuí  4305439  -33.6866   -53.4594          48.6\n",
       "233       Lavras do Sul  4311502  -30.8071   -53.8931          47.7"
      ]
     },
     "execution_count": 23,
     "metadata": {},
     "output_type": "execute_result"
    }
   ],
   "source": [
    "# Os 10 municipios com maior taxa de distorção\n",
    "df.nlargest(10, 'tx_distorcao')"
   ]
  },
  {
   "cell_type": "code",
   "execution_count": 25,
   "metadata": {},
   "outputs": [
    {
     "data": {
      "text/plain": [
       "<matplotlib.axes._subplots.AxesSubplot at 0x21675d68e48>"
      ]
     },
     "execution_count": 25,
     "metadata": {},
     "output_type": "execute_result"
    },
    {
     "data": {
      "image/png": "[encoded data removed]",
      "text/plain": [
       "<Figure size 432x288 with 1 Axes>"
      ]
     },
     "metadata": {
      "needs_background": "light"
     },
     "output_type": "display_data"
    }
   ],
   "source": [
    "# Plotandoo histograma da taxa de distorção\n",
    "df['tx_distorcao'].plot.hist(bins=100, color='red')"
   ]
  },
  {
   "cell_type": "code",
   "execution_count": 26,
   "metadata": {},
   "outputs": [
    {
     "data": {
      "text/plain": [
       "Município       17\n",
       "ibge            17\n",
       "latitude        17\n",
       "longitude       17\n",
       "tx_distorcao    17\n",
       "dtype: int64"
      ]
     },
     "execution_count": 26,
     "metadata": {},
     "output_type": "execute_result"
    }
   ],
   "source": [
    "# Quantidade de municipios com taxa de distorção menor ou igual a 10\n",
    "df[df['tx_distorcao'] <= 10].count()"
   ]
  },
  {
   "cell_type": "code",
   "execution_count": 28,
   "metadata": {},
   "outputs": [
    {
     "data": {
      "text/plain": [
       "Município       17\n",
       "ibge            17\n",
       "latitude        17\n",
       "longitude       17\n",
       "tx_distorcao    17\n",
       "dtype: int64"
      ]
     },
     "execution_count": 28,
     "metadata": {},
     "output_type": "execute_result"
    }
   ],
   "source": [
    "# Quantidade de municipios com taxa de distorção maior ou igual a 45\n",
    "df[df['tx_distorcao'] >= 45].count()"
   ]
  },
  {
   "cell_type": "code",
   "execution_count": 38,
   "metadata": {},
   "outputs": [
    {
     "data": {
      "text/html": [
       "<div style=\"width:100%;\"><div style=\"position:relative;width:100%;height:0;padding-bottom:60%;\"><iframe src=\"data:text/html;charset=utf-8;base64,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\" style=\"position:absolute;width:100%;height:100%;left:0;top:0;border:none !important;\" allowfullscreen webkitallowfullscreen mozallowfullscreen></iframe></div></div>"
      ],
      "text/plain": [
       "<folium.folium.Map at 0x21675669c18>"
      ]
     },
     "execution_count": 38,
     "metadata": {},
     "output_type": "execute_result"
    }
   ],
   "source": [
    "# Vamos aprender como funciona o Folium\n",
    "\n",
    "# Criar um mapa,com base em uma coordenada central\n",
    "brasil = folium.Map(\n",
    "    location = [-13.6603615, -69.6775883], #coordenadas do google maps\n",
    "    zoom_start=4\n",
    ")\n",
    "\n",
    "# Mostrando o mapa\n",
    "brasil"
   ]
  },
  {
   "cell_type": "code",
   "execution_count": 40,
   "metadata": {},
   "outputs": [
    {
     "data": {
      "text/html": [
       "<div style=\"width:100%;\"><div style=\"position:relative;width:100%;height:0;padding-bottom:60%;\"><iframe src=\"data:text/html;charset=utf-8;base64,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\" style=\"position:absolute;width:100%;height:100%;left:0;top:0;border:none !important;\" allowfullscreen webkitallowfullscreen mozallowfullscreen></iframe></div></div>"
      ],
      "text/plain": [
       "<folium.folium.Map at 0x216756130b8>"
      ]
     },
     "execution_count": 40,
     "metadata": {},
     "output_type": "execute_result"
    }
   ],
   "source": [
    "# Vamos criar o mapa do RS\n",
    "rs = folium.Map(\n",
    " # location = [-30.3918717, -55.9134377], coordenadas do google maps\n",
    "   location = [-30.5, -52], # coordenadas ajustada\n",
    "   zoom_start=6\n",
    ")\n",
    "\n",
    "# Mostrando o mapa\n",
    "rs"
   ]
  },
  {
   "cell_type": "code",
   "execution_count": 43,
   "metadata": {},
   "outputs": [
    {
     "data": {
      "text/html": [
       "<div style=\"width:100%;\"><div style=\"position:relative;width:100%;height:0;padding-bottom:60%;\"><iframe src=\"data:text/html;charset=utf-8;base64,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\" style=\"position:absolute;width:100%;height:100%;left:0;top:0;border:none !important;\" allowfullscreen webkitallowfullscreen mozallowfullscreen></iframe></div></div>"
      ],
      "text/plain": [
       "<folium.folium.Map at 0x216756130b8>"
      ]
     },
     "execution_count": 43,
     "metadata": {},
     "output_type": "execute_result"
    }
   ],
   "source": [
    "# Percorrer o data frame com base com base nas melhores escolas (tx_distorcao <= 10)\n",
    "# e desenhar um marcador para cada escola\n",
    "# usando for e iterrows\n",
    "\n",
    "for indice,municipio in df[df['tx_distorcao'] <= 10].iterrows():\n",
    "    folium.Marker(\n",
    "        location = [municipio['latitude'], municipio['longitude']],\n",
    "        popup=municipio['Município'],\n",
    "        icon=folium.map.Icon(color='green')\n",
    "    ).add_to(rs)\n",
    "\n",
    "# Mostrar o gráfico\n",
    "rs                           "
   ]
  },
  {
   "cell_type": "code",
   "execution_count": 44,
   "metadata": {},
   "outputs": [
    {
     "data": {
      "text/html": [
       "<div style=\"width:100%;\"><div style=\"position:relative;width:100%;height:0;padding-bottom:60%;\"><iframe src=\"data:text/html;charset=utf-8;base64,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\" style=\"position:absolute;width:100%;height:100%;left:0;top:0;border:none !important;\" allowfullscreen webkitallowfullscreen mozallowfullscreen></iframe></div></div>"
      ],
      "text/plain": [
       "<folium.folium.Map at 0x216756130b8>"
      ]
     },
     "execution_count": 44,
     "metadata": {},
     "output_type": "execute_result"
    }
   ],
   "source": [
    "# Percorrer o data frame com base com base nas melhores escolas (tx_distorcao >= 45)\n",
    "# e desenhar um marcador para cada escola\n",
    "# usando for e iterrows\n",
    "\n",
    "for indice,municipio in df[df['tx_distorcao'] >= 45].iterrows():\n",
    "    folium.Marker(\n",
    "        location = [municipio['latitude'], municipio['longitude']],\n",
    "        popup=municipio['Município'],\n",
    "        icon=folium.map.Icon(color='red')\n",
    "    ).add_to(rs)\n",
    "\n",
    "# Mostrar o gráfico\n",
    "rs"
   ]
  },
  {
   "cell_type": "code",
   "execution_count": 45,
   "metadata": {},
   "outputs": [
    {
     "data": {
      "text/plain": [
       "325    32.3\n",
       "Name: tx_distorcao, dtype: float64"
      ]
     },
     "execution_count": 45,
     "metadata": {},
     "output_type": "execute_result"
    }
   ],
   "source": [
    "# Qual a taxa de distorção de Porto Alegre\n",
    "df[df['Município'] == 'Porto Alegre']['tx_distorcao']"
   ]
  }
 ],
 "metadata": {
  "kernelspec": {
   "display_name": "Python 3",
   "language": "python",
   "name": "python3"
  },
  "language_info": {
   "codemirror_mode": {
    "name": "ipython",
    "version": 3
   },
   "file_extension": ".py",
   "mimetype": "text/x-python",
   "name": "python",
   "nbconvert_exporter": "python",
   "pygments_lexer": "ipython3",
   "version": "3.7.1"
  }
 },
 "nbformat": 4,
 "nbformat_minor": 2
}
